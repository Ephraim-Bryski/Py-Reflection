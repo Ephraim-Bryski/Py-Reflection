{
 "cells": [
  {
   "cell_type": "code",
   "execution_count": 1,
   "metadata": {},
   "outputs": [
    {
     "name": "stdout",
     "output_type": "stream",
     "text": [
      "foot\n"
     ]
    }
   ],
   "source": [
    "import ast\n",
    "import pprint\n",
    "\n",
    "# would have to reserve something (maybe \"unit\" or \"u\" ) for defining a unit\n",
    "\n",
    "from pint import UnitRegistry\n",
    "\n",
    "u = UnitRegistry()\n",
    "\n",
    "\n",
    "\n",
    "tree = ast.parse(\"u.feet\")\n",
    "\n",
    "attribute = tree.body[0].value.attr\n",
    "module = tree.body[0].value.value.id\n",
    "\n",
    "if module == \"u\":\n",
    "    bop = getattr(u, attribute)\n",
    "    print(bop)\n"
   ]
  },
  {
   "cell_type": "code",
   "execution_count": 11,
   "metadata": {},
   "outputs": [
    {
     "data": {
      "text/plain": [
       "'(3 lb / ft)'"
      ]
     },
     "execution_count": 11,
     "metadata": {},
     "output_type": "execute_result"
    }
   ],
   "source": [
    "from pint import UnitRegistry\n",
    "\n",
    "u = UnitRegistry()\n",
    "\n",
    "boop = 3*u.pound*u.foot**(-1)\n",
    "'('+str(boop).replace(\"foot\",\"ft\").replace(\"pound\",\"lb\")+')'\n",
    "\n",
    "\n"
   ]
  },
  {
   "cell_type": "code",
   "execution_count": 39,
   "metadata": {},
   "outputs": [
    {
     "data": {
      "text/plain": [
       "'b = a + 2 in = 3.4166666666666665 foot+ 2 in = something'"
      ]
     },
     "execution_count": 39,
     "metadata": {},
     "output_type": "execute_result"
    }
   ],
   "source": [
    "a = 3*u.feet + 5*u.inch\n",
    "\n",
    "a_VAL_AS_STRING = str(eval(\"3*u.feet + 5*u.inch\"))\n",
    "\n",
    "\"a = \"+a_VAL_AS_STRING\n",
    "\n",
    "b = a + 2*u.inch\n",
    "\"b = a + 2 in = \"+a_VAL_AS_STRING +\"+ 2 in = something\"\n",
    "\n"
   ]
  },
  {
   "cell_type": "code",
   "execution_count": 2,
   "metadata": {},
   "outputs": [
    {
     "name": "stdout",
     "output_type": "stream",
     "text": [
      "['x', 'y', 'a', 'b', 'z']\n"
     ]
    }
   ],
   "source": [
    "import re\n",
    "\n",
    "def extract_variables(equation):\n",
    "    # Regular expression pattern to match standalone variables (letters and/or numbers, not separated by periods)\n",
    "    pattern = r'\\b[a-zA-Z_][a-zA-Z0-9_]*\\b'\n",
    "    variables = re.findall(pattern, equation)\n",
    "    return variables\n",
    "\n",
    "# Example equation\n",
    "equation = \"3 * x + 2 * y = a.b + z\"\n",
    "\n",
    "# Extract variables from the equation\n",
    "variables = extract_variables(equation)\n",
    "\n",
    "# Print the extracted variables\n",
    "print(variables)\n"
   ]
  },
  {
   "cell_type": "code",
   "execution_count": 79,
   "metadata": {},
   "outputs": [
    {
     "data": {
      "text/plain": [
       "'def boop(a=\\nNone):\\n    pass'"
      ]
     },
     "execution_count": 79,
     "metadata": {},
     "output_type": "execute_result"
    }
   ],
   "source": [
    "import ast\n",
    "\n",
    "function = ast.parse(\n",
    "\"\"\"\n",
    "def boop():\n",
    "    pass\n",
    "\"\"\"\n",
    ").body[0]\n",
    "\n",
    "new_arg = ast.arg()\n",
    "new_arg.arg = \"boop\"\n",
    "none_tree = ast.parse(\"None\").body[0]\n",
    "\n",
    "\n",
    "function.args.args.append(new_arg)\n",
    "function.args.defaults.append(none_tree)\n",
    "\n",
    "ast.unparse(function)"
   ]
  },
  {
   "cell_type": "code",
   "execution_count": 94,
   "metadata": {},
   "outputs": [
    {
     "data": {
      "text/plain": [
       "{'posonlyargs': [],\n",
       " 'args': [<ast.arg at 0x1c2af7dddb0>],\n",
       " 'vararg': None,\n",
       " 'kwonlyargs': [],\n",
       " 'kw_defaults': [],\n",
       " 'kwarg': None,\n",
       " 'defaults': [<ast.Constant at 0x1c2af7dd3f0>]}"
      ]
     },
     "execution_count": 94,
     "metadata": {},
     "output_type": "execute_result"
    }
   ],
   "source": [
    "sample_func = \"def boop(a=3):pass\"\n",
    "base_args = ast.parse(sample_func).body[0].args\n",
    "\n",
    "\n",
    "new_func = ast.parse(\n",
    "\"\"\"\n",
    "def boop():\n",
    "    pass\n",
    "\"\"\"\n",
    ").body[0]\n",
    "\n",
    "new_func.args = base_args\n",
    "\n",
    "ast.unparse(new_func)\n",
    "\n",
    "\n",
    "base_args.__dict__"
   ]
  },
  {
   "cell_type": "code",
   "execution_count": 97,
   "metadata": {},
   "outputs": [
    {
     "data": {
      "text/plain": [
       "<ast.Constant at 0x1c2af763c10>"
      ]
     },
     "execution_count": 97,
     "metadata": {},
     "output_type": "execute_result"
    }
   ],
   "source": [
    "ast.parse(\"None\").body[0].value"
   ]
  },
  {
   "cell_type": "code",
   "execution_count": 98,
   "metadata": {},
   "outputs": [
    {
     "name": "stdout",
     "output_type": "stream",
     "text": [
      "def boop(a=None):\n",
      "    pass\n"
     ]
    }
   ],
   "source": [
    "import ast\n",
    "\n",
    "function = ast.parse(\n",
    "\"\"\"\n",
    "def boop():\n",
    "    pass\n",
    "\"\"\"\n",
    ").body[0]\n",
    "\n",
    "new_arg = ast.arguments(args=[ast.arg(arg=\"a\", annotation=None)],\n",
    "                        posonlyargs = [],\n",
    "                        vararg=None,\n",
    "                        kwonlyargs=[],\n",
    "                        kw_defaults=[],\n",
    "                        kwarg=None,\n",
    "                        defaults=[ast.parse(\"None\").body[0].value])\n",
    "\n",
    "function.args = new_arg\n",
    "\n",
    "formatted_code = ast.unparse(function)\n",
    "print(formatted_code)\n"
   ]
  },
  {
   "cell_type": "code",
   "execution_count": 64,
   "metadata": {},
   "outputs": [
    {
     "data": {
      "text/plain": [
       "'c:\\\\Users\\\\Ephraim\\\\AppData\\\\Local\\\\Programs\\\\Python\\\\Python311\\\\Lib\\\\site-packages\\\\numpy\\\\__init__.py'"
      ]
     },
     "execution_count": 64,
     "metadata": {},
     "output_type": "execute_result"
    }
   ],
   "source": [
    "import numpy as np\n",
    "import inspect\n",
    "inspect.getmodule(np.matrix).__file__"
   ]
  },
  {
   "cell_type": "code",
   "execution_count": 11,
   "metadata": {},
   "outputs": [
    {
     "name": "stdout",
     "output_type": "stream",
     "text": [
      "[FrameInfo(frame=<frame at 0x000001C2A10410C0, file 'C:\\\\Users\\\\Ephraim\\\\AppData\\\\Local\\\\Temp\\\\ipykernel_20372\\\\3318279823.py', line 5, code is_called_with>, filename='C:\\\\Users\\\\Ephraim\\\\AppData\\\\Local\\\\Temp\\\\ipykernel_20372\\\\3318279823.py', lineno=4, function='is_called_with', code_context=['    stack = inspect.stack()\\n'], index=0, positions=Positions(lineno=4, end_lineno=4, col_offset=12, end_col_offset=27)), FrameInfo(frame=<frame at 0x000001C2A0C93EC0, file 'C:\\\\Users\\\\Ephraim\\\\AppData\\\\Local\\\\Temp\\\\ipykernel_20372\\\\3318279823.py', line 14, code <module>>, filename='C:\\\\Users\\\\Ephraim\\\\AppData\\\\Local\\\\Temp\\\\ipykernel_20372\\\\3318279823.py', lineno=14, function='<module>', code_context=['is_called_with()\\n'], index=0, positions=Positions(lineno=14, end_lineno=14, col_offset=0, end_col_offset=16)), FrameInfo(frame=<frame at 0x000001C2A0AD6790, file 'C:\\\\Users\\\\Ephraim\\\\AppData\\\\Roaming\\\\Python\\\\Python311\\\\site-packages\\\\IPython\\\\core\\\\interactiveshell.py', line 3508, code run_code>, filename='C:\\\\Users\\\\Ephraim\\\\AppData\\\\Roaming\\\\Python\\\\Python311\\\\site-packages\\\\IPython\\\\core\\\\interactiveshell.py', lineno=3508, function='run_code', code_context=['                    exec(code_obj, self.user_global_ns, self.user_ns)\\n'], index=0, positions=Positions(lineno=3508, end_lineno=3508, col_offset=20, end_col_offset=69)), FrameInfo(frame=<frame at 0x000001C2A07431C0, file 'C:\\\\Users\\\\Ephraim\\\\AppData\\\\Roaming\\\\Python\\\\Python311\\\\site-packages\\\\IPython\\\\core\\\\interactiveshell.py', line 3448, code run_ast_nodes>, filename='C:\\\\Users\\\\Ephraim\\\\AppData\\\\Roaming\\\\Python\\\\Python311\\\\site-packages\\\\IPython\\\\core\\\\interactiveshell.py', lineno=3448, function='run_ast_nodes', code_context=['                if await self.run_code(code, result, async_=asy):\\n'], index=0, positions=Positions(lineno=3448, end_lineno=3448, col_offset=19, end_col_offset=64)), FrameInfo(frame=<frame at 0x000001C2A07256C0, file 'C:\\\\Users\\\\Ephraim\\\\AppData\\\\Roaming\\\\Python\\\\Python311\\\\site-packages\\\\IPython\\\\core\\\\interactiveshell.py', line 3269, code run_cell_async>, filename='C:\\\\Users\\\\Ephraim\\\\AppData\\\\Roaming\\\\Python\\\\Python311\\\\site-packages\\\\IPython\\\\core\\\\interactiveshell.py', lineno=3269, function='run_cell_async', code_context=['                has_raised = await self.run_ast_nodes(code_ast.body, cell_name,\\n'], index=0, positions=Positions(lineno=3269, end_lineno=3270, col_offset=29, end_col_offset=85)), FrameInfo(frame=<frame at 0x000001C2A1041240, file 'C:\\\\Users\\\\Ephraim\\\\AppData\\\\Roaming\\\\Python\\\\Python311\\\\site-packages\\\\IPython\\\\core\\\\async_helpers.py', line 129, code _pseudo_sync_runner>, filename='C:\\\\Users\\\\Ephraim\\\\AppData\\\\Roaming\\\\Python\\\\Python311\\\\site-packages\\\\IPython\\\\core\\\\async_helpers.py', lineno=129, function='_pseudo_sync_runner', code_context=['        coro.send(None)\\n'], index=0, positions=Positions(lineno=129, end_lineno=129, col_offset=8, end_col_offset=23)), FrameInfo(frame=<frame at 0x000001C2A0A9D800, file 'C:\\\\Users\\\\Ephraim\\\\AppData\\\\Roaming\\\\Python\\\\Python311\\\\site-packages\\\\IPython\\\\core\\\\interactiveshell.py', line 3064, code _run_cell>, filename='C:\\\\Users\\\\Ephraim\\\\AppData\\\\Roaming\\\\Python\\\\Python311\\\\site-packages\\\\IPython\\\\core\\\\interactiveshell.py', lineno=3064, function='_run_cell', code_context=['            result = runner(coro)\\n'], index=0, positions=Positions(lineno=3064, end_lineno=3064, col_offset=21, end_col_offset=33)), FrameInfo(frame=<frame at 0x000001C2A0B9D640, file 'C:\\\\Users\\\\Ephraim\\\\AppData\\\\Roaming\\\\Python\\\\Python311\\\\site-packages\\\\IPython\\\\core\\\\interactiveshell.py', line 3009, code run_cell>, filename='C:\\\\Users\\\\Ephraim\\\\AppData\\\\Roaming\\\\Python\\\\Python311\\\\site-packages\\\\IPython\\\\core\\\\interactiveshell.py', lineno=3009, function='run_cell', code_context=['            result = self._run_cell(\\n'], index=0, positions=Positions(lineno=3009, end_lineno=3011, col_offset=21, end_col_offset=13)), FrameInfo(frame=<frame at 0x000001C2A1095CB0, file 'C:\\\\Users\\\\Ephraim\\\\AppData\\\\Roaming\\\\Python\\\\Python311\\\\site-packages\\\\ipykernel\\\\zmqshell.py', line 540, code run_cell>, filename='C:\\\\Users\\\\Ephraim\\\\AppData\\\\Roaming\\\\Python\\\\Python311\\\\site-packages\\\\ipykernel\\\\zmqshell.py', lineno=540, function='run_cell', code_context=['        return super().run_cell(*args, **kwargs)\\n'], index=0, positions=Positions(lineno=540, end_lineno=540, col_offset=15, end_col_offset=48)), FrameInfo(frame=<frame at 0x000001C2A0742DA0, file 'C:\\\\Users\\\\Ephraim\\\\AppData\\\\Roaming\\\\Python\\\\Python311\\\\site-packages\\\\ipykernel\\\\ipkernel.py', line 422, code do_execute>, filename='C:\\\\Users\\\\Ephraim\\\\AppData\\\\Roaming\\\\Python\\\\Python311\\\\site-packages\\\\ipykernel\\\\ipkernel.py', lineno=422, function='do_execute', code_context=['                    res = shell.run_cell(\\n'], index=0, positions=Positions(lineno=422, end_lineno=427, col_offset=26, end_col_offset=21)), FrameInfo(frame=<frame at 0x000001C2A0A9D440, file 'C:\\\\Users\\\\Ephraim\\\\AppData\\\\Roaming\\\\Python\\\\Python311\\\\site-packages\\\\ipykernel\\\\kernelbase.py', line 729, code execute_request>, filename='C:\\\\Users\\\\Ephraim\\\\AppData\\\\Roaming\\\\Python\\\\Python311\\\\site-packages\\\\ipykernel\\\\kernelbase.py', lineno=729, function='execute_request', code_context=['            reply_content = await reply_content\\n'], index=0, positions=Positions(lineno=729, end_lineno=729, col_offset=28, end_col_offset=47)), FrameInfo(frame=<frame at 0x000001C2A0A4B2E0, file 'C:\\\\Users\\\\Ephraim\\\\AppData\\\\Roaming\\\\Python\\\\Python311\\\\site-packages\\\\ipykernel\\\\kernelbase.py', line 409, code dispatch_shell>, filename='C:\\\\Users\\\\Ephraim\\\\AppData\\\\Roaming\\\\Python\\\\Python311\\\\site-packages\\\\ipykernel\\\\kernelbase.py', lineno=409, function='dispatch_shell', code_context=['                    await result\\n'], index=0, positions=Positions(lineno=409, end_lineno=409, col_offset=20, end_col_offset=32)), FrameInfo(frame=<frame at 0x000001C2A1095220, file 'C:\\\\Users\\\\Ephraim\\\\AppData\\\\Roaming\\\\Python\\\\Python311\\\\site-packages\\\\ipykernel\\\\kernelbase.py', line 502, code process_one>, filename='C:\\\\Users\\\\Ephraim\\\\AppData\\\\Roaming\\\\Python\\\\Python311\\\\site-packages\\\\ipykernel\\\\kernelbase.py', lineno=502, function='process_one', code_context=['        await dispatch(*args)\\n'], index=0, positions=Positions(lineno=502, end_lineno=502, col_offset=8, end_col_offset=29)), FrameInfo(frame=<frame at 0x000001C2A0BA2820, file 'C:\\\\Users\\\\Ephraim\\\\AppData\\\\Roaming\\\\Python\\\\Python311\\\\site-packages\\\\ipykernel\\\\kernelbase.py', line 513, code dispatch_queue>, filename='C:\\\\Users\\\\Ephraim\\\\AppData\\\\Roaming\\\\Python\\\\Python311\\\\site-packages\\\\ipykernel\\\\kernelbase.py', lineno=513, function='dispatch_queue', code_context=['                await self.process_one()\\n'], index=0, positions=Positions(lineno=513, end_lineno=513, col_offset=16, end_col_offset=40)), FrameInfo(frame=<frame at 0x000001C2A0BA74C0, file 'c:\\\\Users\\\\Ephraim\\\\AppData\\\\Local\\\\Programs\\\\Python\\\\Python311\\\\Lib\\\\asyncio\\\\events.py', line 80, code _run>, filename='c:\\\\Users\\\\Ephraim\\\\AppData\\\\Local\\\\Programs\\\\Python\\\\Python311\\\\Lib\\\\asyncio\\\\events.py', lineno=80, function='_run', code_context=['            self._context.run(self._callback, *self._args)\\n'], index=0, positions=Positions(lineno=80, end_lineno=80, col_offset=12, end_col_offset=58)), FrameInfo(frame=<frame at 0x000001C2A0A2FA70, file 'c:\\\\Users\\\\Ephraim\\\\AppData\\\\Local\\\\Programs\\\\Python\\\\Python311\\\\Lib\\\\asyncio\\\\base_events.py', line 1922, code _run_once>, filename='c:\\\\Users\\\\Ephraim\\\\AppData\\\\Local\\\\Programs\\\\Python\\\\Python311\\\\Lib\\\\asyncio\\\\base_events.py', lineno=1922, function='_run_once', code_context=['                handle._run()\\n'], index=0, positions=Positions(lineno=1922, end_lineno=1922, col_offset=16, end_col_offset=29)), FrameInfo(frame=<frame at 0x000001C2A10407C0, file 'c:\\\\Users\\\\Ephraim\\\\AppData\\\\Local\\\\Programs\\\\Python\\\\Python311\\\\Lib\\\\asyncio\\\\base_events.py', line 607, code run_forever>, filename='c:\\\\Users\\\\Ephraim\\\\AppData\\\\Local\\\\Programs\\\\Python\\\\Python311\\\\Lib\\\\asyncio\\\\base_events.py', lineno=607, function='run_forever', code_context=['                self._run_once()\\n'], index=0, positions=Positions(lineno=607, end_lineno=607, col_offset=16, end_col_offset=32)), FrameInfo(frame=<frame at 0x000001C2A0C91B20, file 'C:\\\\Users\\\\Ephraim\\\\AppData\\\\Roaming\\\\Python\\\\Python311\\\\site-packages\\\\tornado\\\\platform\\\\asyncio.py', line 195, code start>, filename='C:\\\\Users\\\\Ephraim\\\\AppData\\\\Roaming\\\\Python\\\\Python311\\\\site-packages\\\\tornado\\\\platform\\\\asyncio.py', lineno=195, function='start', code_context=['        self.asyncio_loop.run_forever()\\n'], index=0, positions=Positions(lineno=195, end_lineno=195, col_offset=8, end_col_offset=39)), FrameInfo(frame=<frame at 0x000001C2A1040940, file 'C:\\\\Users\\\\Ephraim\\\\AppData\\\\Roaming\\\\Python\\\\Python311\\\\site-packages\\\\ipykernel\\\\kernelapp.py', line 725, code start>, filename='C:\\\\Users\\\\Ephraim\\\\AppData\\\\Roaming\\\\Python\\\\Python311\\\\site-packages\\\\ipykernel\\\\kernelapp.py', lineno=725, function='start', code_context=['                self.io_loop.start()\\n'], index=0, positions=Positions(lineno=725, end_lineno=725, col_offset=16, end_col_offset=36)), FrameInfo(frame=<frame at 0x000001C2A1095080, file 'C:\\\\Users\\\\Ephraim\\\\AppData\\\\Roaming\\\\Python\\\\Python311\\\\site-packages\\\\traitlets\\\\config\\\\application.py', line 1043, code launch_instance>, filename='C:\\\\Users\\\\Ephraim\\\\AppData\\\\Roaming\\\\Python\\\\Python311\\\\site-packages\\\\traitlets\\\\config\\\\application.py', lineno=1043, function='launch_instance', code_context=['        app.start()\\n'], index=0, positions=Positions(lineno=1043, end_lineno=1043, col_offset=8, end_col_offset=19)), FrameInfo(frame=<frame at 0x000001C2A0C92660, file 'C:\\\\Users\\\\Ephraim\\\\AppData\\\\Roaming\\\\Python\\\\Python311\\\\site-packages\\\\ipykernel_launcher.py', line 17, code <module>>, filename='C:\\\\Users\\\\Ephraim\\\\AppData\\\\Roaming\\\\Python\\\\Python311\\\\site-packages\\\\ipykernel_launcher.py', lineno=17, function='<module>', code_context=['    app.launch_new_instance()\\n'], index=0, positions=Positions(lineno=17, end_lineno=17, col_offset=4, end_col_offset=29)), FrameInfo(frame=<frame at 0x000001C2A09DF880, file '<frozen runpy>', line 88, code _run_code>, filename='<frozen runpy>', lineno=88, function='_run_code', code_context=None, index=None, positions=Positions(lineno=88, end_lineno=88, col_offset=4, end_col_offset=27)), FrameInfo(frame=<frame at 0x000001C2A0B9D540, file '<frozen runpy>', line 198, code _run_module_as_main>, filename='<frozen runpy>', lineno=198, function='_run_module_as_main', code_context=None, index=None, positions=Positions(lineno=198, end_lineno=199, col_offset=11, end_col_offset=42))]\n",
      "['    stack = inspect.stack()\\n']\n",
      "['is_called_with()\\n']\n",
      "['                    exec(code_obj, self.user_global_ns, self.user_ns)\\n']\n",
      "['                if await self.run_code(code, result, async_=asy):\\n']\n",
      "['                has_raised = await self.run_ast_nodes(code_ast.body, cell_name,\\n']\n",
      "['        coro.send(None)\\n']\n",
      "['            result = runner(coro)\\n']\n",
      "['            result = self._run_cell(\\n']\n",
      "['        return super().run_cell(*args, **kwargs)\\n']\n",
      "['                    res = shell.run_cell(\\n']\n",
      "['            reply_content = await reply_content\\n']\n",
      "['                    await result\\n']\n",
      "['        await dispatch(*args)\\n']\n",
      "['                await self.process_one()\\n']\n",
      "['            self._context.run(self._callback, *self._args)\\n']\n",
      "['                handle._run()\\n']\n",
      "['                self._run_once()\\n']\n",
      "['        self.asyncio_loop.run_forever()\\n']\n",
      "['                self.io_loop.start()\\n']\n",
      "['        app.start()\\n']\n",
      "['    app.launch_new_instance()\\n']\n",
      "None\n",
      "None\n",
      "This function is not called using exec.\n"
     ]
    }
   ],
   "source": [
    "import inspect\n",
    "\n",
    "def is_called_with():\n",
    "    stack = inspect.stack()\n",
    "    print(stack)\n",
    "    for frame in stack:\n",
    "        print(frame.code_context)\n",
    "        if frame.function == '<module>' and 'exec' in frame.code_context[0]:\n",
    "            print(\"This function is called using exec.\")\n",
    "            return\n",
    "    print(\"This function is not called using exec.\")\n",
    "\n",
    "\n",
    "is_called_with()"
   ]
  }
 ],
 "metadata": {
  "kernelspec": {
   "display_name": "Python 3",
   "language": "python",
   "name": "python3"
  },
  "language_info": {
   "codemirror_mode": {
    "name": "ipython",
    "version": 3
   },
   "file_extension": ".py",
   "mimetype": "text/x-python",
   "name": "python",
   "nbconvert_exporter": "python",
   "pygments_lexer": "ipython3",
   "version": "3.11.3"
  }
 },
 "nbformat": 4,
 "nbformat_minor": 2
}
