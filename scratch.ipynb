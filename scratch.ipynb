{
 "cells": [
  {
   "cell_type": "code",
   "execution_count": 8,
   "metadata": {},
   "outputs": [
    {
     "name": "stdout",
     "output_type": "stream",
     "text": [
      "C:\\Users\\BryskiE\\AppData\\Local\\Temp\\ipykernel_28760\\1485948171.py\n"
     ]
    }
   ],
   "source": [
    "import inspect\n",
    "\n",
    "def inner():\n",
    "    stack = inspect.stack()\n",
    "    print(stack[1].filename)\n",
    "def outer():\n",
    "    inner()\n",
    "\n",
    "outer()"
   ]
  },
  {
   "cell_type": "code",
   "execution_count": 3,
   "metadata": {},
   "outputs": [
    {
     "name": "stdout",
     "output_type": "stream",
     "text": [
      "c:\\Users\\BryskiE\\AppData\\Local\\Programs\\Python\\Python311\\Lib\\site-packages\\numpy\n"
     ]
    }
   ],
   "source": [
    "import numpy\n",
    "import inspect\n",
    "\n",
    "\n",
    "print(\"//\".join(inspect.getmodule(numpy).__file__.split(\"//\")[0:-1]))"
   ]
  },
  {
   "cell_type": "code",
   "execution_count": 14,
   "metadata": {},
   "outputs": [],
   "source": [
    "import test_module\n",
    "import os\n",
    "import shutil\n",
    "def copy_to_module(module_name, file_name):\n",
    "\n",
    "    module_directory = \"C:/Users/BryskiE/AppData/Local/Programs/Python/Python311/Lib/\"\n",
    "    shutil.copy(file_name, f\"{module_directory}/{module_name}\")\n",
    "\n",
    "\n",
    "copy_to_module(\"sap\", \"__init__.py\")\n",
    "    "
   ]
  },
  {
   "cell_type": "code",
   "execution_count": 5,
   "metadata": {},
   "outputs": [],
   "source": [
    "import sap\n",
    "import importlib\n",
    "\n",
    "importlib.reload(sap)\n",
    "\n",
    "boop = sap.start_sap()\n"
   ]
  },
  {
   "cell_type": "code",
   "execution_count": 4,
   "metadata": {},
   "outputs": [
    {
     "name": "stdout",
     "output_type": "stream",
     "text": [
      "hi\n"
     ]
    }
   ],
   "source": [
    "import inspect\n",
    "\n",
    "\n",
    "def boop():\n",
    "    pass\n",
    "\n",
    "func = boop\n",
    "\n",
    "exec(\"print('hi')\",closure=())"
   ]
  },
  {
   "cell_type": "code",
   "execution_count": 21,
   "metadata": {},
   "outputs": [],
   "source": [
    "import numpy as np\n",
    "\n",
    "import numpy"
   ]
  },
  {
   "cell_type": "code",
   "execution_count": 22,
   "metadata": {},
   "outputs": [
    {
     "data": {
      "text/plain": [
       "True"
      ]
     },
     "execution_count": 22,
     "metadata": {},
     "output_type": "execute_result"
    }
   ],
   "source": [
    "numpy is np"
   ]
  },
  {
   "cell_type": "code",
   "execution_count": 2,
   "metadata": {},
   "outputs": [
    {
     "name": "stdout",
     "output_type": "stream",
     "text": [
      "hullo\n"
     ]
    }
   ],
   "source": [
    "import inspect\n",
    "\n",
    "def hullo():\n",
    "    print(inspect.stack()[0][3])\n",
    "\n",
    "hullo()"
   ]
  }
 ],
 "metadata": {
  "kernelspec": {
   "display_name": "Python 3",
   "language": "python",
   "name": "python3"
  },
  "language_info": {
   "codemirror_mode": {
    "name": "ipython",
    "version": 3
   },
   "file_extension": ".py",
   "mimetype": "text/x-python",
   "name": "python",
   "nbconvert_exporter": "python",
   "pygments_lexer": "ipython3",
   "version": "3.11.4"
  }
 },
 "nbformat": 4,
 "nbformat_minor": 2
}
