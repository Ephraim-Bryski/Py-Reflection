{
 "cells": [
  {
   "cell_type": "code",
   "execution_count": 16,
   "metadata": {},
   "outputs": [],
   "source": [
    "import pint\n",
    "a = pint.UnitRegistry()"
   ]
  },
  {
   "cell_type": "code",
   "execution_count": 18,
   "metadata": {},
   "outputs": [],
   "source": [
    "stuff = {\n",
    "    \"source_code\": \"b = 3 * i * u.feet\",\n",
    "    \"values\": {\n",
    "        \"i\": \"1\",\n",
    "        \"b\": \"3 foot\"\n",
    "    }\n",
    "}"
   ]
  },
  {
   "cell_type": "code",
   "execution_count": 3,
   "metadata": {},
   "outputs": [
    {
     "data": {
      "text/plain": [
       "'inch / second ** 2'"
      ]
     },
     "execution_count": 3,
     "metadata": {},
     "output_type": "execute_result"
    }
   ],
   "source": [
    "import pint\n",
    "u = pint.UnitRegistry()\n",
    "str(u.inch*u.second**(-2))\n",
    "\n"
   ]
  },
  {
   "cell_type": "code",
   "execution_count": 31,
   "metadata": {},
   "outputs": [],
   "source": [
    "import os\n",
    "import shutil\n",
    "\n",
    "def copytree_with_overwrite(src, dst):\n",
    "\n",
    "    for root, _, files in os.walk(src):\n",
    "        rel_path = os.path.relpath(root, src)\n",
    "        dest_path = os.path.join(dst, rel_path)\n",
    "\n",
    "        if not os.path.exists(dest_path):\n",
    "            os.makedirs(dest_path, exist_ok=True)\n",
    "\n",
    "        for file in files:\n",
    "            src_file_path = os.path.join(root, file)\n",
    "            dest_file_path = os.path.join(dest_path, file)\n",
    "\n",
    "            # Copy and overwrite files\n",
    "            shutil.copy(src_file_path, dest_file_path)\n",
    "\n",
    "# Example usage\n",
    "copytree_with_overwrite(\"my_module\", \"destination\")\n"
   ]
  },
  {
   "cell_type": "code",
   "execution_count": 47,
   "metadata": {},
   "outputs": [
    {
     "data": {
      "text/plain": [
       "'destination'"
      ]
     },
     "execution_count": 47,
     "metadata": {},
     "output_type": "execute_result"
    }
   ],
   "source": [
    "shutil.copytree(\"my_module\",\"destination\",dirs_exist_ok=True)"
   ]
  },
  {
   "cell_type": "code",
   "execution_count": 4,
   "metadata": {},
   "outputs": [],
   "source": [
    "import ast\n",
    "loop = \\\n",
    "f\"\"\"for i in range(5):print(i)\"\"\"\n",
    "\n",
    "tree = ast.parse(loop).body[0]"
   ]
  },
  {
   "cell_type": "code",
   "execution_count": 8,
   "metadata": {},
   "outputs": [
    {
     "data": {
      "text/plain": [
       "'range(5)'"
      ]
     },
     "execution_count": 8,
     "metadata": {},
     "output_type": "execute_result"
    }
   ],
   "source": [
    "ast.unparse(tree.iter)"
   ]
  },
  {
   "cell_type": "code",
   "execution_count": 4,
   "metadata": {},
   "outputs": [
    {
     "name": "stdout",
     "output_type": "stream",
     "text": [
      "hi\n"
     ]
    }
   ],
   "source": [
    "import inspect\n",
    "\n",
    "\n",
    "def boop():\n",
    "    pass\n",
    "\n",
    "func = boop\n",
    "\n",
    "exec(\"print('hi')\",closure=())"
   ]
  },
  {
   "cell_type": "code",
   "execution_count": 21,
   "metadata": {},
   "outputs": [],
   "source": [
    "import numpy as np\n",
    "\n",
    "import numpy"
   ]
  },
  {
   "cell_type": "code",
   "execution_count": 22,
   "metadata": {},
   "outputs": [
    {
     "data": {
      "text/plain": [
       "True"
      ]
     },
     "execution_count": 22,
     "metadata": {},
     "output_type": "execute_result"
    }
   ],
   "source": [
    "numpy is np"
   ]
  },
  {
   "cell_type": "code",
   "execution_count": 2,
   "metadata": {},
   "outputs": [
    {
     "name": "stdout",
     "output_type": "stream",
     "text": [
      "hullo\n"
     ]
    }
   ],
   "source": [
    "import inspect\n",
    "\n",
    "def hullo():\n",
    "    print(inspect.stack()[0][3])\n",
    "\n",
    "hullo()"
   ]
  }
 ],
 "metadata": {
  "kernelspec": {
   "display_name": "Python 3",
   "language": "python",
   "name": "python3"
  },
  "language_info": {
   "codemirror_mode": {
    "name": "ipython",
    "version": 3
   },
   "file_extension": ".py",
   "mimetype": "text/x-python",
   "name": "python",
   "nbconvert_exporter": "python",
   "pygments_lexer": "ipython3",
   "version": "3.11.4"
  }
 },
 "nbformat": 4,
 "nbformat_minor": 2
}
